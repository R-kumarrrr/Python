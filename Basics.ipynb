{
  "nbformat": 4,
  "nbformat_minor": 0,
  "metadata": {
    "colab": {
      "provenance": [],
      "authorship_tag": "ABX9TyNWOheDAHROvEtPuH/40OO4",
      "include_colab_link": true
    },
    "kernelspec": {
      "name": "python3",
      "display_name": "Python 3"
    },
    "language_info": {
      "name": "python"
    }
  },
  "cells": [
    {
      "cell_type": "markdown",
      "metadata": {
        "id": "view-in-github",
        "colab_type": "text"
      },
      "source": [
        "<a href=\"https://colab.research.google.com/github/R-kumarrrr/Python/blob/main/Basics.ipynb\" target=\"_parent\"><img src=\"https://colab.research.google.com/assets/colab-badge.svg\" alt=\"Open In Colab\"/></a>"
      ]
    },
    {
      "cell_type": "markdown",
      "source": [
        "# Print"
      ],
      "metadata": {
        "id": "OrKxmIC_6bk7"
      }
    },
    {
      "cell_type": "code",
      "source": [
        "print('Hello World')"
      ],
      "metadata": {
        "colab": {
          "base_uri": "https://localhost:8080/"
        },
        "id": "xwMH7Qmj6ity",
        "outputId": "834d0bef-3ab5-4246-e4b6-67e8b10e3830"
      },
      "execution_count": null,
      "outputs": [
        {
          "output_type": "stream",
          "name": "stdout",
          "text": [
            "Hello World\n"
          ]
        }
      ]
    },
    {
      "cell_type": "markdown",
      "source": [
        "# Variable"
      ],
      "metadata": {
        "id": "oU3wM7VI6xtj"
      }
    },
    {
      "cell_type": "code",
      "source": [
        "Name = 'Rajat Dahiya'\n",
        "Age = 21\n",
        "Salary = 12.5\n",
        "print(Name, Age, Salary)\n",
        "print(type(Name))"
      ],
      "metadata": {
        "colab": {
          "base_uri": "https://localhost:8080/"
        },
        "id": "uv_yMcbJ6zwl",
        "outputId": "0adeeec7-6cba-4fb4-b660-501b9182d04c"
      },
      "execution_count": null,
      "outputs": [
        {
          "output_type": "stream",
          "name": "stdout",
          "text": [
            "Rajat Dahiya 21 12.5\n",
            "<class 'str'>\n"
          ]
        }
      ]
    },
    {
      "cell_type": "markdown",
      "source": [
        "# Sum"
      ],
      "metadata": {
        "id": "I9IGFAJ97YHv"
      }
    },
    {
      "cell_type": "code",
      "source": [
        "a,b = 12,23\n",
        "Sum = a + b\n",
        "print(Sum)"
      ],
      "metadata": {
        "colab": {
          "base_uri": "https://localhost:8080/"
        },
        "id": "eZ5Z4aCt7aw5",
        "outputId": "2c25a51d-0e4a-475b-b124-f587ce2bfadc"
      },
      "execution_count": null,
      "outputs": [
        {
          "output_type": "stream",
          "name": "stdout",
          "text": [
            "35\n"
          ]
        }
      ]
    },
    {
      "cell_type": "markdown",
      "source": [
        "# Comments"
      ],
      "metadata": {
        "id": "FMXKmaIl7sR-"
      }
    },
    {
      "cell_type": "code",
      "source": [
        "# This is a single line comment\n",
        "'''\n",
        "This is a\n",
        "multi line\n",
        "comment\n",
        "'''"
      ],
      "metadata": {
        "id": "oGASp58S7tmN"
      },
      "execution_count": null,
      "outputs": []
    },
    {
      "cell_type": "markdown",
      "source": [
        "# Type Conversion"
      ],
      "metadata": {
        "id": "APOob5hW8Cmz"
      }
    },
    {
      "cell_type": "code",
      "source": [
        "# This is done by the interpreter automatically\n",
        "a,b = 12,23.5\n",
        "sum = a + b\n",
        "print(sum)  # this is give a float value because float is superior than int\n",
        "\n",
        "c,d = 23,'5'\n",
        "sum1 = c+d\n",
        "#print(sum1) this will give an error because int and str cant be added"
      ],
      "metadata": {
        "colab": {
          "base_uri": "https://localhost:8080/"
        },
        "id": "gG9_WgTR8HG6",
        "outputId": "b39ea616-a045-4965-d70e-79443340af7b"
      },
      "execution_count": null,
      "outputs": [
        {
          "output_type": "stream",
          "name": "stdout",
          "text": [
            "35.5\n"
          ]
        }
      ]
    },
    {
      "cell_type": "markdown",
      "source": [
        "# Type Casting"
      ],
      "metadata": {
        "id": "va7LcE269C78"
      }
    },
    {
      "cell_type": "code",
      "source": [
        "# This is done by the user manually\n",
        "c,d = 23,'5'\n",
        "sum1 = c+int(d)\n",
        "print(sum1)"
      ],
      "metadata": {
        "colab": {
          "base_uri": "https://localhost:8080/"
        },
        "id": "e97HYfsh9FfV",
        "outputId": "8e776983-cb29-410d-8343-df3af54428d9"
      },
      "execution_count": null,
      "outputs": [
        {
          "output_type": "stream",
          "name": "stdout",
          "text": [
            "28\n"
          ]
        }
      ]
    },
    {
      "cell_type": "markdown",
      "source": [
        "# Input"
      ],
      "metadata": {
        "id": "rJfQJsrI9WHS"
      }
    },
    {
      "cell_type": "code",
      "source": [
        "# By default it will take Str as the datatype\n",
        "Number = int(input('Enter a number: '))\n",
        "print(Number)"
      ],
      "metadata": {
        "colab": {
          "base_uri": "https://localhost:8080/"
        },
        "id": "h38yKmQf9Xtm",
        "outputId": "eb3a6c4b-7413-4254-d0a3-d22109b818f1"
      },
      "execution_count": null,
      "outputs": [
        {
          "output_type": "stream",
          "name": "stdout",
          "text": [
            "Enter a number: 21\n",
            "21\n"
          ]
        }
      ]
    },
    {
      "cell_type": "markdown",
      "source": [
        "# Q1 : Sum"
      ],
      "metadata": {
        "id": "GvESJE249xC3"
      }
    },
    {
      "cell_type": "code",
      "source": [
        "Num1 = int(input('Enter a number: '))\n",
        "Num2 = int(input('Enter a number: '))\n",
        "Sum = Num1 + Num2\n",
        "print(Sum)"
      ],
      "metadata": {
        "colab": {
          "base_uri": "https://localhost:8080/"
        },
        "id": "u5BCG-vT90O0",
        "outputId": "5308de34-02bb-4bab-a21c-277cd712ab6f"
      },
      "execution_count": null,
      "outputs": [
        {
          "output_type": "stream",
          "name": "stdout",
          "text": [
            "Enter a number: 21\n",
            "Enter a number: 23\n",
            "44\n"
          ]
        }
      ]
    },
    {
      "cell_type": "markdown",
      "source": [
        "# Q2 : Area"
      ],
      "metadata": {
        "id": "FWz1p_Tg979-"
      }
    },
    {
      "cell_type": "code",
      "source": [
        "Side = int(input('Enter a number: '))\n",
        "Area = Side * Side\n",
        "print(Area)"
      ],
      "metadata": {
        "colab": {
          "base_uri": "https://localhost:8080/"
        },
        "id": "M_Q4tnGT99f2",
        "outputId": "237be412-53b9-4e8e-fa45-08d5730ae730"
      },
      "execution_count": null,
      "outputs": [
        {
          "output_type": "stream",
          "name": "stdout",
          "text": [
            "Enter a number: 25\n",
            "625\n"
          ]
        }
      ]
    },
    {
      "cell_type": "markdown",
      "source": [
        "# Q3 : Average of Float"
      ],
      "metadata": {
        "id": "iRMETD4_-O4D"
      }
    },
    {
      "cell_type": "code",
      "source": [
        "num_float1 = float(input('Enter a number: '))\n",
        "num_float2 = float(input('Enter a number: '))\n",
        "num_float3 = float(input('Enter a number: '))\n",
        "Average = (num_float1 + num_float2 + num_float3)/3\n",
        "print(Average)"
      ],
      "metadata": {
        "colab": {
          "base_uri": "https://localhost:8080/"
        },
        "id": "6c25Riej-Xzr",
        "outputId": "be368e63-1c6d-46ac-cd22-16cc264b1d3b"
      },
      "execution_count": null,
      "outputs": [
        {
          "output_type": "stream",
          "name": "stdout",
          "text": [
            "Enter a number: 12\n",
            "Enter a number: 224\n",
            "Enter a number: 46\n",
            "94.0\n"
          ]
        }
      ]
    },
    {
      "cell_type": "markdown",
      "source": [
        "# Q4 : If else"
      ],
      "metadata": {
        "id": "aKQakJxA-0Jp"
      }
    },
    {
      "cell_type": "code",
      "source": [
        "num1 = int(input('Enter a number: '))\n",
        "num2 = int(input('Enter a number: '))\n",
        "if num1 > num2:\n",
        "    print('True')\n",
        "else:\n",
        "    print('False')"
      ],
      "metadata": {
        "colab": {
          "base_uri": "https://localhost:8080/"
        },
        "id": "MnLiXoKN-4fq",
        "outputId": "a995733f-f45c-47c2-b689-74a2e97d88ad"
      },
      "execution_count": null,
      "outputs": [
        {
          "output_type": "stream",
          "name": "stdout",
          "text": [
            "Enter a number: 12\n",
            "Enter a number: 23\n",
            "False\n"
          ]
        }
      ]
    },
    {
      "cell_type": "markdown",
      "source": [
        "# String Functions"
      ],
      "metadata": {
        "id": "pUeMGHuNPKPL"
      }
    },
    {
      "cell_type": "code",
      "source": [
        "str1 = 'hello World'\n",
        "str1.capitalize()\n",
        "str1.upper()\n",
        "str1.lower()\n",
        "str1.title()\n",
        "str1.swapcase()\n",
        "str1.find('World')\n",
        "len(str1)\n",
        "str1.replace('World','Rajat')\n",
        "str1.count('l')"
      ],
      "metadata": {
        "colab": {
          "base_uri": "https://localhost:8080/",
          "height": 35
        },
        "id": "ecd6SXcvPNRN",
        "outputId": "98021140-78ac-44d5-8595-d41bff9c5324"
      },
      "execution_count": null,
      "outputs": [
        {
          "output_type": "execute_result",
          "data": {
            "text/plain": [
              "'hello Rajat'"
            ],
            "application/vnd.google.colaboratory.intrinsic+json": {
              "type": "string"
            }
          },
          "metadata": {},
          "execution_count": 30
        }
      ]
    },
    {
      "cell_type": "markdown",
      "source": [
        "# Indexing"
      ],
      "metadata": {
        "id": "YaW7zChoBcRQ"
      }
    },
    {
      "cell_type": "code",
      "source": [
        "name = 'rahat kumar'\n",
        "name[0]\n",
        "# name[2] = 'j' str doesn't allow item assignment"
      ],
      "metadata": {
        "colab": {
          "base_uri": "https://localhost:8080/",
          "height": 35
        },
        "id": "aT8lSoqBA748",
        "outputId": "2384a3d7-d222-447c-b66c-d50236c843b8"
      },
      "execution_count": null,
      "outputs": [
        {
          "output_type": "execute_result",
          "data": {
            "text/plain": [
              "'r'"
            ],
            "application/vnd.google.colaboratory.intrinsic+json": {
              "type": "string"
            }
          },
          "metadata": {},
          "execution_count": 25
        }
      ]
    },
    {
      "cell_type": "markdown",
      "source": [
        "# Slicing"
      ],
      "metadata": {
        "id": "dx6LBlX6QIiJ"
      }
    },
    {
      "cell_type": "code",
      "source": [
        "name[0:5]\n",
        "name[:9]\n",
        "name[2:7]\n",
        "name[-5:-1]\n",
        "name[::-1]"
      ],
      "metadata": {
        "colab": {
          "base_uri": "https://localhost:8080/",
          "height": 35
        },
        "id": "6vdl1WrDQKIo",
        "outputId": "da165071-a8ff-4024-e6a3-81604c641d69"
      },
      "execution_count": null,
      "outputs": [
        {
          "output_type": "execute_result",
          "data": {
            "text/plain": [
              "'ramuk tahar'"
            ],
            "application/vnd.google.colaboratory.intrinsic+json": {
              "type": "string"
            }
          },
          "metadata": {},
          "execution_count": 37
        }
      ]
    },
    {
      "cell_type": "markdown",
      "source": [
        "# Q5 : Print And Length"
      ],
      "metadata": {
        "id": "MHlnh4HqQuVa"
      }
    },
    {
      "cell_type": "code",
      "source": [
        "Nam = input('Enter you name: ')\n",
        "print(len(Nam))"
      ],
      "metadata": {
        "colab": {
          "base_uri": "https://localhost:8080/"
        },
        "id": "4Lnucr7tRHlI",
        "outputId": "4df54abf-fef7-4c5d-916a-2c5c1303135b"
      },
      "execution_count": null,
      "outputs": [
        {
          "output_type": "stream",
          "name": "stdout",
          "text": [
            "Enter you name: Rajat kumar\n",
            "11\n"
          ]
        }
      ]
    },
    {
      "cell_type": "markdown",
      "source": [
        "# Q6 : Even Odd"
      ],
      "metadata": {
        "id": "aWP_ShwPRhYv"
      }
    },
    {
      "cell_type": "code",
      "source": [
        "checkingNum = int(input('Enter a number: '))\n",
        "if checkingNum % 2 == 0:\n",
        "    print('Even')\n",
        "else:\n",
        "    print('Odd')"
      ],
      "metadata": {
        "colab": {
          "base_uri": "https://localhost:8080/"
        },
        "id": "8NplBgPxRmtt",
        "outputId": "eb1e6498-6f05-453d-d033-c0f916dfc76a"
      },
      "execution_count": null,
      "outputs": [
        {
          "output_type": "stream",
          "name": "stdout",
          "text": [
            "Enter a number: 23\n",
            "Odd\n"
          ]
        }
      ]
    },
    {
      "cell_type": "markdown",
      "source": [
        "# Q7 : Largest Num"
      ],
      "metadata": {
        "id": "9UuvHfJySOfB"
      }
    },
    {
      "cell_type": "code",
      "source": [
        "Numb1 = int(input('Enter a number: '))\n",
        "Numb2 = int(input('Enter a number: '))\n",
        "Numb3 = int(input('Enter a number: '))\n",
        "if Numb1 > Numb2 and Numb1 > Numb3:\n",
        "    print(Numb1)\n",
        "elif  Numb2 > Numb1 and Numb2 > Numb3:\n",
        "    print(Numb2)\n",
        "else:\n",
        "    print(Numb3)"
      ],
      "metadata": {
        "colab": {
          "base_uri": "https://localhost:8080/"
        },
        "id": "KNpQRFfLSSLS",
        "outputId": "5809f330-6c9a-4b76-d7c4-84eb55c363c5"
      },
      "execution_count": null,
      "outputs": [
        {
          "output_type": "stream",
          "name": "stdout",
          "text": [
            "Enter a number: 11\n",
            "Enter a number: 24\n",
            "Enter a number: 57\n",
            "57\n"
          ]
        }
      ]
    },
    {
      "cell_type": "markdown",
      "source": [
        "# Q8 : Checking Multiple"
      ],
      "metadata": {
        "id": "eBGpYq6jS4wO"
      }
    },
    {
      "cell_type": "code",
      "source": [
        "number2 = int(input('Enter a number: '))\n",
        "if number2 % 7 == 0:\n",
        "    print('True')\n",
        "else:\n",
        "    print('False')"
      ],
      "metadata": {
        "colab": {
          "base_uri": "https://localhost:8080/"
        },
        "id": "XJFVV5xfS9vp",
        "outputId": "9a1f741f-395a-43f7-c8c9-3384013e63ff"
      },
      "execution_count": null,
      "outputs": [
        {
          "output_type": "stream",
          "name": "stdout",
          "text": [
            "Enter a number: 49\n",
            "True\n"
          ]
        }
      ]
    },
    {
      "cell_type": "markdown",
      "source": [
        "# Q9"
      ],
      "metadata": {
        "id": "4ubhG_hObbGC"
      }
    },
    {
      "cell_type": "code",
      "source": [
        "fav_m1 = input('Enter your fav movie: ')\n",
        "fav_m2 = input('Enter your fav movie: ')\n",
        "fav_m3 = input('Enter your fav movie: ')\n",
        "li = [fav_m1,fav_m2,fav_m3]\n",
        "print(li)"
      ],
      "metadata": {
        "colab": {
          "base_uri": "https://localhost:8080/"
        },
        "id": "abOgSfgDbdcx",
        "outputId": "0229acbd-83d3-4eff-f1bf-b061b92210cd"
      },
      "execution_count": null,
      "outputs": [
        {
          "output_type": "stream",
          "name": "stdout",
          "text": [
            "Enter your fav movie: srl\n",
            "Enter your fav movie: kk\n",
            "Enter your fav movie: ar\n",
            "['srl', 'kk', 'ar']\n"
          ]
        }
      ]
    },
    {
      "cell_type": "markdown",
      "source": [
        "# Q10\n"
      ],
      "metadata": {
        "id": "YNNLzhd1cWhc"
      }
    },
    {
      "cell_type": "code",
      "source": [
        "li1 = [1,2,3,2,1]\n",
        "li2 = li1.copy()\n",
        "li2.reverse()\n",
        "if li1 == li2:\n",
        "    print('True')\n",
        "else:\n",
        "    print('False')\n",
        "\n",
        "li1.count(1)\n",
        "li1.sort()\n",
        "print(li1)"
      ],
      "metadata": {
        "colab": {
          "base_uri": "https://localhost:8080/"
        },
        "id": "WLFoMv2OcX2w",
        "outputId": "58539a6d-7249-4de6-c7e3-02dae0600192"
      },
      "execution_count": null,
      "outputs": [
        {
          "output_type": "stream",
          "name": "stdout",
          "text": [
            "True\n",
            "[1, 1, 2, 2, 3]\n"
          ]
        }
      ]
    },
    {
      "cell_type": "markdown",
      "source": [
        "# Q11"
      ],
      "metadata": {
        "id": "rcnhrB4Ewn7X"
      }
    },
    {
      "cell_type": "code",
      "source": [
        "dict1 = {\n",
        "    'table' :{\n",
        "        'M1':'a piece of furniture',\n",
        "        'M2':'listt of facts & figures'\n",
        "     } ,\n",
        "    'cat' : 'a small animal'\n",
        "}\n",
        "print(dict1)"
      ],
      "metadata": {
        "colab": {
          "base_uri": "https://localhost:8080/"
        },
        "id": "9nFqoh-1kpI5",
        "outputId": "7946247a-e960-4b1b-8fa4-c7b08101d124"
      },
      "execution_count": null,
      "outputs": [
        {
          "output_type": "stream",
          "name": "stdout",
          "text": [
            "{'table': {'M1': 'a piece of furniture', 'M2': 'listt of facts & figures'}, 'cat': 'a small animal'}\n"
          ]
        }
      ]
    },
    {
      "cell_type": "markdown",
      "source": [
        "#Q12\n"
      ],
      "metadata": {
        "id": "FyIcn1_gwqzw"
      }
    },
    {
      "cell_type": "code",
      "source": [
        "for i in range (0,3):\n",
        "  for j in range (0,i):\n",
        "    i = input('enter subject: ')\n",
        "    j = input('enter marks: ')\n",
        "    dict2[i]=j\n",
        "print(dict2)"
      ],
      "metadata": {
        "colab": {
          "base_uri": "https://localhost:8080/"
        },
        "id": "u3yY5uojm_sw",
        "outputId": "14d2a25f-ec77-4150-eb5a-6dfa8ea7dea5"
      },
      "execution_count": null,
      "outputs": [
        {
          "output_type": "stream",
          "name": "stdout",
          "text": [
            "enter subject: m\n",
            "enter marks: 2\n",
            "enter subject: n\n",
            "enter marks: 4\n",
            "enter subject: b\n",
            "enter marks: 4\n",
            "{'j': 'j', 'm': '2', 'n': '4', 'b': '4'}\n"
          ]
        }
      ]
    },
    {
      "cell_type": "markdown",
      "source": [
        "#Q13"
      ],
      "metadata": {
        "id": "sFCS_Yx5wuHe"
      }
    },
    {
      "cell_type": "code",
      "source": [
        "set1 = {9,'9.0'}\n",
        "print (set1)"
      ],
      "metadata": {
        "colab": {
          "base_uri": "https://localhost:8080/"
        },
        "id": "8PJv6oKMpnhB",
        "outputId": "eb90930c-4e64-4d39-f521-0080149a957f"
      },
      "execution_count": null,
      "outputs": [
        {
          "output_type": "stream",
          "name": "stdout",
          "text": [
            "{9, '9.0'}\n"
          ]
        }
      ]
    },
    {
      "cell_type": "markdown",
      "source": [
        "#Q14"
      ],
      "metadata": {
        "id": "qWKkXclXwyPB"
      }
    },
    {
      "cell_type": "code",
      "source": [
        "i = 1\n",
        "while i <= 10:\n",
        "  print(i)\n",
        "  i+=1"
      ],
      "metadata": {
        "colab": {
          "base_uri": "https://localhost:8080/"
        },
        "id": "8e8r7YGvJr6t",
        "outputId": "d0e4fc6d-7aaa-414c-d44d-f932153e70d8"
      },
      "execution_count": null,
      "outputs": [
        {
          "output_type": "stream",
          "name": "stdout",
          "text": [
            "1\n",
            "2\n",
            "3\n",
            "4\n",
            "5\n",
            "6\n",
            "7\n",
            "8\n",
            "9\n",
            "10\n"
          ]
        }
      ]
    },
    {
      "cell_type": "markdown",
      "source": [
        "#Q15"
      ],
      "metadata": {
        "id": "TT0dmiCHw0Po"
      }
    },
    {
      "cell_type": "code",
      "source": [
        "i = 100\n",
        "while i >= 0:\n",
        "  print(i)\n",
        "  i-=1"
      ],
      "metadata": {
        "colab": {
          "base_uri": "https://localhost:8080/"
        },
        "id": "TJSNvIRwJ_uK",
        "outputId": "843a298f-c49e-4611-ad83-383c4ddb6f5f"
      },
      "execution_count": null,
      "outputs": [
        {
          "output_type": "stream",
          "name": "stdout",
          "text": [
            "100\n",
            "99\n",
            "98\n",
            "97\n",
            "96\n",
            "95\n",
            "94\n",
            "93\n",
            "92\n",
            "91\n",
            "90\n",
            "89\n",
            "88\n",
            "87\n",
            "86\n",
            "85\n",
            "84\n",
            "83\n",
            "82\n",
            "81\n",
            "80\n",
            "79\n",
            "78\n",
            "77\n",
            "76\n",
            "75\n",
            "74\n",
            "73\n",
            "72\n",
            "71\n",
            "70\n",
            "69\n",
            "68\n",
            "67\n",
            "66\n",
            "65\n",
            "64\n",
            "63\n",
            "62\n",
            "61\n",
            "60\n",
            "59\n",
            "58\n",
            "57\n",
            "56\n",
            "55\n",
            "54\n",
            "53\n",
            "52\n",
            "51\n",
            "50\n",
            "49\n",
            "48\n",
            "47\n",
            "46\n",
            "45\n",
            "44\n",
            "43\n",
            "42\n",
            "41\n",
            "40\n",
            "39\n",
            "38\n",
            "37\n",
            "36\n",
            "35\n",
            "34\n",
            "33\n",
            "32\n",
            "31\n",
            "30\n",
            "29\n",
            "28\n",
            "27\n",
            "26\n",
            "25\n",
            "24\n",
            "23\n",
            "22\n",
            "21\n",
            "20\n",
            "19\n",
            "18\n",
            "17\n",
            "16\n",
            "15\n",
            "14\n",
            "13\n",
            "12\n",
            "11\n",
            "10\n",
            "9\n",
            "8\n",
            "7\n",
            "6\n",
            "5\n",
            "4\n",
            "3\n",
            "2\n",
            "1\n",
            "0\n"
          ]
        }
      ]
    },
    {
      "cell_type": "markdown",
      "source": [
        "#Q16"
      ],
      "metadata": {
        "id": "K5YH3eSnw4an"
      }
    },
    {
      "cell_type": "code",
      "source": [
        "i = 1\n",
        "while i <=10:\n",
        "  print(i**2)\n",
        "  i+=1"
      ],
      "metadata": {
        "colab": {
          "base_uri": "https://localhost:8080/"
        },
        "id": "mg5v8Qn5KvZp",
        "outputId": "674b41e2-1ce5-4a5a-8e68-515a47e30686"
      },
      "execution_count": null,
      "outputs": [
        {
          "output_type": "stream",
          "name": "stdout",
          "text": [
            "1\n",
            "4\n",
            "9\n",
            "16\n",
            "25\n",
            "36\n",
            "49\n",
            "64\n",
            "81\n",
            "100\n"
          ]
        }
      ]
    },
    {
      "cell_type": "markdown",
      "source": [
        "#Q17"
      ],
      "metadata": {
        "id": "3jneqa_Ww966"
      }
    },
    {
      "cell_type": "code",
      "source": [
        "tup = (1,4,9,16,25,36,49,64,81,100)\n",
        "x = int(input('Enter a number: '))\n",
        "count= 0\n",
        "while len(tup) > count:\n",
        "  if (x == tup[count]):\n",
        "    print (count)\n",
        "  count+=1"
      ],
      "metadata": {
        "colab": {
          "base_uri": "https://localhost:8080/"
        },
        "id": "z4F7BMxwK_3j",
        "outputId": "e14779c8-6eeb-4841-cc65-0178a2825bde"
      },
      "execution_count": null,
      "outputs": [
        {
          "output_type": "stream",
          "name": "stdout",
          "text": [
            "Enter a number: 25\n",
            "4\n"
          ]
        }
      ]
    },
    {
      "cell_type": "markdown",
      "source": [
        "#Q18"
      ],
      "metadata": {
        "id": "SLU0mu-ixATk"
      }
    },
    {
      "cell_type": "code",
      "source": [
        "x = int(input('Enter a number: '))\n",
        "for i in range (1,11):\n",
        "  print(f\"{x}X{i} :\",x*i)"
      ],
      "metadata": {
        "colab": {
          "base_uri": "https://localhost:8080/"
        },
        "id": "0VTTOpPjL3tt",
        "outputId": "7f0564a2-427e-47fd-c78c-14cce8f94c52"
      },
      "execution_count": null,
      "outputs": [
        {
          "output_type": "stream",
          "name": "stdout",
          "text": [
            "Enter a number: 5\n",
            "5X1 : 5\n",
            "5X2 : 10\n",
            "5X3 : 15\n",
            "5X4 : 20\n",
            "5X5 : 25\n",
            "5X6 : 30\n",
            "5X7 : 35\n",
            "5X8 : 40\n",
            "5X9 : 45\n",
            "5X10 : 50\n"
          ]
        }
      ]
    },
    {
      "cell_type": "markdown",
      "source": [
        "#Q19"
      ],
      "metadata": {
        "id": "9qDsGxwkxC_-"
      }
    },
    {
      "cell_type": "code",
      "source": [
        "count = 1\n",
        "product = 1\n",
        "n = int(input('Enter a number: '))\n",
        "while count <= n:\n",
        "  product = product*count\n",
        "  count+=1\n",
        "print(product)"
      ],
      "metadata": {
        "colab": {
          "base_uri": "https://localhost:8080/"
        },
        "id": "isqngEsJdZ_A",
        "outputId": "605c6bc4-23f5-46c8-b4f4-7f67bb1934dd"
      },
      "execution_count": null,
      "outputs": [
        {
          "output_type": "stream",
          "name": "stdout",
          "text": [
            "Enter a number: 5\n",
            "120\n"
          ]
        }
      ]
    },
    {
      "cell_type": "markdown",
      "source": [
        "#Q20"
      ],
      "metadata": {
        "id": "eubUf4UIBZog"
      }
    },
    {
      "cell_type": "code",
      "source": [
        "count = 1\n",
        "fact = 1\n",
        "n = int(input('Enter a number: '))\n",
        "for i in range (0,n):\n",
        "   fact = fact*count\n",
        "   count+=1\n",
        "print(fact)"
      ],
      "metadata": {
        "colab": {
          "base_uri": "https://localhost:8080/"
        },
        "id": "wAxJ35rXdvSu",
        "outputId": "04c38834-e8b6-427b-e369-0d64d3c61a00"
      },
      "execution_count": null,
      "outputs": [
        {
          "output_type": "stream",
          "name": "stdout",
          "text": [
            "Enter a number: 5\n",
            "120\n"
          ]
        }
      ]
    },
    {
      "cell_type": "markdown",
      "source": [
        "#Q21\n"
      ],
      "metadata": {
        "id": "Rwqs_FpiBch2"
      }
    },
    {
      "cell_type": "code",
      "source": [
        "a = 0\n",
        "b = 1\n",
        "x = int(input(\"enter a num: \"))\n",
        "for i in range (x):\n",
        "  print(a)\n",
        "  a , b = b,a+b\n"
      ],
      "metadata": {
        "colab": {
          "base_uri": "https://localhost:8080/"
        },
        "id": "PnEqGaE1f7b_",
        "outputId": "754364c1-f20e-4325-eca7-2b3045219612"
      },
      "execution_count": null,
      "outputs": [
        {
          "output_type": "stream",
          "name": "stdout",
          "text": [
            "enter a num: 5\n",
            "0\n",
            "1\n",
            "1\n",
            "2\n",
            "3\n"
          ]
        }
      ]
    },
    {
      "cell_type": "markdown",
      "source": [
        "# Function"
      ],
      "metadata": {
        "id": "nSKXMqeoBgmB"
      }
    },
    {
      "cell_type": "code",
      "source": [
        "def len_list(x):\n",
        "  return len(x)\n",
        "  print(len(x))\n",
        "\n",
        "len_list([1,2,3,4,5,6])"
      ],
      "metadata": {
        "colab": {
          "base_uri": "https://localhost:8080/"
        },
        "id": "05WUXZsQeSaG",
        "outputId": "bda46b98-717c-4a4b-b238-d42e8a28c333"
      },
      "execution_count": null,
      "outputs": [
        {
          "output_type": "execute_result",
          "data": {
            "text/plain": [
              "6"
            ]
          },
          "metadata": {},
          "execution_count": 3
        }
      ]
    },
    {
      "cell_type": "code",
      "source": [
        "def same_line(li):\n",
        "  for i in range (0,len(li)):\n",
        "    print(li[i],end = \" \")\n",
        "\n",
        "listt = [1,2,3,6,4,5]\n",
        "same_line(listt)"
      ],
      "metadata": {
        "colab": {
          "base_uri": "https://localhost:8080/"
        },
        "id": "NzqJ77Lre4sc",
        "outputId": "a9214902-1a70-4ba2-d3e6-2d254b0103de"
      },
      "execution_count": null,
      "outputs": [
        {
          "output_type": "stream",
          "name": "stdout",
          "text": [
            "1 2 3 6 4 5 "
          ]
        }
      ]
    },
    {
      "cell_type": "markdown",
      "source": [
        "#Q22"
      ],
      "metadata": {
        "id": "6FLKaKYCBmDQ"
      }
    },
    {
      "cell_type": "code",
      "source": [
        "def fac(n):\n",
        "  m = 1\n",
        "  for i in range(1,n+1):\n",
        "    m *= i\n",
        "  print(m)\n",
        "a = int(input('Enter a number: '))\n",
        "fac(a)"
      ],
      "metadata": {
        "colab": {
          "base_uri": "https://localhost:8080/"
        },
        "id": "rDsMmGFXip2H",
        "outputId": "f4709e66-0731-4906-989c-64857b783cf2"
      },
      "execution_count": null,
      "outputs": [
        {
          "output_type": "stream",
          "name": "stdout",
          "text": [
            "Enter a number: 5\n",
            "120\n"
          ]
        }
      ]
    },
    {
      "cell_type": "code",
      "source": [
        "def con(usd):\n",
        "  inr = usd * 80\n",
        "  print(inr)\n",
        "\n",
        "con(4)"
      ],
      "metadata": {
        "colab": {
          "base_uri": "https://localhost:8080/"
        },
        "id": "xPe-bHHCobk_",
        "outputId": "63bef9a4-feb4-4a5d-ede9-6fb0c4957207"
      },
      "execution_count": null,
      "outputs": [
        {
          "output_type": "stream",
          "name": "stdout",
          "text": [
            "320\n"
          ]
        }
      ]
    },
    {
      "cell_type": "markdown",
      "source": [
        "# Practice Questions"
      ],
      "metadata": {
        "id": "UtFsc0ldRCSV"
      }
    },
    {
      "cell_type": "markdown",
      "source": [
        "# You are provided with a list of student scores in a class. Perform the following operations:\n",
        "\n",
        "#Find and display the highest score in the class.\n",
        "#Calculate and print the average score of the class.\n",
        "#Identify and display the names of students who scored above a certain threshold (e.g., 80).\n",
        "#Sort and display the student names in alphabetical order."
      ],
      "metadata": {
        "id": "QgfvflRbSuY_"
      }
    },
    {
      "cell_type": "code",
      "source": [
        "s_names = [\"Al\", \"Bob marley\", \"Charlie Cox\", \"David Miller\", \"Emma watson\"]\n",
        "scores = [75, 92, 80, 88, 95]\n",
        "\n",
        "highest_score = max(scores)\n",
        "print(highest_score)\n",
        "\n",
        "avg_score = sum(scores) / len(scores)\n",
        "print(average_score)\n",
        "\n",
        "threshold = 85\n",
        "above_threshold = [n for n, s in zip(s_names, scores) if s > threshold]\n",
        "print(above_threshold)\n",
        "\n",
        "sorted_names = sorted(s_names)\n",
        "print(sorted_names)"
      ],
      "metadata": {
        "colab": {
          "base_uri": "https://localhost:8080/"
        },
        "id": "tmTkqOYURIh7",
        "outputId": "e0d69a80-846c-421e-b63c-9322e66e8fa4"
      },
      "execution_count": null,
      "outputs": [
        {
          "output_type": "stream",
          "name": "stdout",
          "text": [
            "Highest Score : 95\n",
            "Average Score : 86.0\n",
            "Students scoring above 85: ['Bob marley', 'David Miller', 'Emma watson']\n",
            "Student Names in alph order: ['Al', 'Bob marley', 'Charlie Cox', 'David Miller', 'Emma watson']\n"
          ]
        }
      ]
    },
    {
      "cell_type": "markdown",
      "source": [
        "# Write a program to generate two lists using list comprehension. The first list should contain the squares of numbers from 1 to 10, and the second list should contain the cubes of the same numbers.\n",
        "\n"
      ],
      "metadata": {
        "id": "lFsByOMdTlI6"
      }
    },
    {
      "cell_type": "code",
      "source": [
        "squares = [x**2 for x in range(1, 11)]\n",
        "cubes = [x**3 for x in range(1, 11)]\n",
        "\n",
        "print(squares)\n",
        "print(cubes)"
      ],
      "metadata": {
        "colab": {
          "base_uri": "https://localhost:8080/"
        },
        "id": "2tpW6ueeSn8Q",
        "outputId": "d15eb882-5ecc-42d3-a76a-39d09bc7dc21"
      },
      "execution_count": null,
      "outputs": [
        {
          "output_type": "stream",
          "name": "stdout",
          "text": [
            "[1, 4, 9, 16, 25, 36, 49, 64, 81, 100]\n",
            "[1, 8, 27, 64, 125, 216, 343, 512, 729, 1000]\n"
          ]
        }
      ]
    },
    {
      "cell_type": "markdown",
      "source": [
        "# Given a list of numbers, create a new list that contains only the positive numbers from the original list. Implement this using list comprehension."
      ],
      "metadata": {
        "id": "IcZHOC2iTy18"
      }
    },
    {
      "cell_type": "code",
      "source": [
        "numbers = [-15, 23, -18, 40, -22, 47, -1, 6]\n",
        "p_numbers = [num for num in numbers if num > 0]\n",
        "print(\"Positive Numbers:\", p_numbers)"
      ],
      "metadata": {
        "colab": {
          "base_uri": "https://localhost:8080/"
        },
        "id": "cPZl_jmDT150",
        "outputId": "79abad22-7b4b-4577-9034-88a779a4711f"
      },
      "execution_count": null,
      "outputs": [
        {
          "output_type": "stream",
          "name": "stdout",
          "text": [
            "Positive Numbers: [23, 40, 47, 6]\n"
          ]
        }
      ]
    },
    {
      "cell_type": "markdown",
      "source": [
        "# You have a list of student names. Implement a program to sort the names alphabetically and display the sorted list.\n",
        "\n"
      ],
      "metadata": {
        "id": "8Iuh0yhmURNu"
      }
    },
    {
      "cell_type": "code",
      "source": [
        "s_names = [\"Al\", \"David Miller\", \"Emma watson\", \"Bob marley\", \"Charlie Cox\"]\n",
        "s_names.sort()\n",
        "print(s_names)"
      ],
      "metadata": {
        "colab": {
          "base_uri": "https://localhost:8080/"
        },
        "id": "ECDFRm-1UUl6",
        "outputId": "fed30ced-734b-4cb6-81f7-3ee8694a491b"
      },
      "execution_count": null,
      "outputs": [
        {
          "output_type": "stream",
          "name": "stdout",
          "text": [
            "['Al', 'Bob marley', 'Charlie Cox', 'David Miller', 'Emma watson']\n"
          ]
        }
      ]
    },
    {
      "cell_type": "markdown",
      "source": [
        "# You are managing student course enrollments, and each course has a unique identifier, a list of enrolled students, and their corresponding grades. Implement a program using advanced tuple operations to perform the following:\n",
        "\n",
        "##Create a tuple for a course containing its identifier, a list of enrolled students, and their grades.\n",
        "##Display the course information, including the average grade.\n",
        "##Identify and display the student with the highest grade in the course.\n",
        "##Update the grade of a specific student."
      ],
      "metadata": {
        "id": "IM4bH46vWhSt"
      }
    },
    {
      "cell_type": "code",
      "source": [
        "c_data = (\"CS101\", [\"Alice\", \"Bob\", \"Charlie\"], [90, 85, 92])\n",
        "c_id, students, grades = c_data\n",
        "average_grade = sum(grades) / len(grades)\n",
        "print(f\"Students: {students}\\nGrades: {grades}\\nAverage Grade: {average_grade}\")\n",
        "\n",
        "highest = students[grades.index(max(grades))]\n",
        "print(f\"highest score: {highest}\")\n",
        "\n",
        "upd_grades = list(grades)\n",
        "upd_grades[1] = 88\n",
        "print(f\"Students: {students}\\nGrades: {upd_grades}\\nAverage Grade: {average_grade}\")"
      ],
      "metadata": {
        "colab": {
          "base_uri": "https://localhost:8080/"
        },
        "id": "eCRInCyRW1Jh",
        "outputId": "42ae6740-b635-491e-9b66-116e260088c1"
      },
      "execution_count": null,
      "outputs": [
        {
          "output_type": "stream",
          "name": "stdout",
          "text": [
            "Students: ['Alice', 'Bob', 'Charlie']\n",
            "Grades: [90, 85, 92]\n",
            "Average Grade: 89.0\n",
            "highest score: Charlie\n",
            "Students: ['Alice', 'Bob', 'Charlie']\n",
            "Grades: [90, 88, 92]\n",
            "Average Grade: 89.0\n"
          ]
        }
      ]
    },
    {
      "cell_type": "markdown",
      "source": [
        "# You have a list of student names, their ages, and their grades. Implement a program using tuple comprehension and filtering to perform the following:\n",
        "\n",
        "##Create a list of tuples where each tuple contains a student’s name, age, and grade.\n",
        "##Display the list of student tuples.\n",
        "##Filter and display only the information of students who are above a certain age."
      ],
      "metadata": {
        "id": "8ubMECGnYqP8"
      }
    },
    {
      "cell_type": "code",
      "source": [
        "names = [\"Alice\", \"Bob\", \"Charlie\", \"David\"]\n",
        "ages = [20, 22, 19, 21]\n",
        "grades = [85, 90, 78, 92]\n",
        "\n",
        "s_info = [(name, age, grade) for name, age, grade in zip(names, ages, grades)]\n",
        "print(\"List:\", s_info)\n",
        "\n",
        "Above_age = [(name, age, grade) for name, age, grade in s_info if age > 20]\n",
        "print(\"Age greater than 20:\", Above_age)"
      ],
      "metadata": {
        "colab": {
          "base_uri": "https://localhost:8080/"
        },
        "id": "x8KhoGUPYt8t",
        "outputId": "6414c020-84a0-4b0e-c75d-c631881b8d0f"
      },
      "execution_count": null,
      "outputs": [
        {
          "output_type": "stream",
          "name": "stdout",
          "text": [
            "List: [('Alice', 20, 85), ('Bob', 22, 90), ('Charlie', 19, 78), ('David', 21, 92)]\n",
            "Age greater than 20: [('Bob', 22, 90), ('David', 21, 92)]\n"
          ]
        }
      ]
    },
    {
      "cell_type": "markdown",
      "source": [
        "# You have a list of employees, and each employee is represented as a tuple containing their name, hourly rate, and hours worked. Implement a program using tuple unpacking and functions to perform the following:\n",
        "\n",
        "##Calculate and display the total salary for each employee.\n",
        "##Identify and display the employee with the highest total salary.\n",
        "##Display the average total salary of all employees."
      ],
      "metadata": {
        "id": "FouyF3osZj0z"
      }
    },
    {
      "cell_type": "code",
      "source": [
        "employees = [(\"Ram\", 20, 40), (\"Shyam\", 25, 35), (\"Babu Rao\", 18, 50)]\n",
        "def calculate_TS(rate, hours):\n",
        "    return rate * hours\n",
        "\n",
        "t_salaries = [calculate_TS(rate, hours) for _, rate, hours in employees]\n",
        "print(\"Total Salaries:\", t_salaries)\n",
        "\n",
        "best_employee = employees[t_salaries.index(max(t_salaries))]\n",
        "print(best_employee)\n",
        "\n",
        "avg_sal = sum(t_salaries) / len(employees)\n",
        "print( avg_sal)"
      ],
      "metadata": {
        "colab": {
          "base_uri": "https://localhost:8080/"
        },
        "id": "Z7xiNCKMZnib",
        "outputId": "744a1b4c-9b24-486b-fa22-a44c2761302c"
      },
      "execution_count": null,
      "outputs": [
        {
          "output_type": "stream",
          "name": "stdout",
          "text": [
            "Total Salaries: [800, 875, 900]\n",
            "('Babu Rao', 18, 50)\n",
            "858.3333333333334\n"
          ]
        }
      ]
    },
    {
      "cell_type": "markdown",
      "source": [
        "#You have a dictionary where the keys are student names, and the values are tuples containing their scores in three different subjects. Implement a program using tuple and dictionary integration to perform the following:\n",
        "\n",
        "##Display the student names and their average scores.\n",
        "##Identify and display the student with the highest average score.\n",
        "##Display the average scores for each subject."
      ],
      "metadata": {
        "id": "JCRJAydxa6EU"
      }
    },
    {
      "cell_type": "code",
      "source": [
        "dictt = {\"A\": (85, 90, 92), \"B\": (78, 85, 88), \"C\": (90, 92, 95)}\n",
        "avg_scores = {name: sum(scores) / len(scores) for name, scores in dictt.items()}\n",
        "print(avg_scores)\n",
        "\n",
        "h_avg_score = max(avg_scores, key=avg_scores.get)\n",
        "print(h_avg_score)\n",
        "\n"
      ],
      "metadata": {
        "colab": {
          "base_uri": "https://localhost:8080/"
        },
        "id": "myIrhs3pa_V7",
        "outputId": "a54601ae-6f44-4ac7-d952-48079a1f592d"
      },
      "execution_count": null,
      "outputs": [
        {
          "output_type": "stream",
          "name": "stdout",
          "text": [
            "{'A': 89.0, 'B': 83.66666666666667, 'C': 92.33333333333333}\n",
            "C\n"
          ]
        }
      ]
    },
    {
      "cell_type": "markdown",
      "source": [
        "### You are provided with a dictionary containing employee names and their corresponding monthly salaries. Find and display the highest salary in the company. Calculate and print the average salary of all employees. Identify and display the names of employees who earn above a certain threshold (e.g., $5000). Sort and display the employee names in alphabetical order.​"
      ],
      "metadata": {
        "id": "WQglpKt9cdIv"
      }
    },
    {
      "cell_type": "code",
      "source": [
        "employees = {'Ram': 6000,'Bovan': 9500,'Charu': 200,'Daman': 4600,'Sham': 7500}\n",
        "h_salary = max(employees.values())\n",
        "print(h_salary)\n",
        "\n",
        "avg_salary = sum(employees.values()) / len(employees)\n",
        "print(avg_salary)\n",
        "\n",
        "threshold = 5000\n",
        "above_threshold = [name for name, salary in employees.items() if salary > threshold]\n",
        "print(above_threshold)\n",
        "\n",
        "sorted = sorted(employees.keys())\n",
        "print(sorted)"
      ],
      "metadata": {
        "colab": {
          "base_uri": "https://localhost:8080/"
        },
        "id": "zIbNQ_BQcmaO",
        "outputId": "8c362a47-f4c1-4cb8-9e6c-caad84a18548"
      },
      "execution_count": null,
      "outputs": [
        {
          "output_type": "stream",
          "name": "stdout",
          "text": [
            "9500\n",
            "5560.0\n",
            "['Ram', 'Bovan', 'Sham']\n",
            "['Bovan', 'Charu', 'Daman', 'Ram', 'Sham']\n"
          ]
        }
      ]
    },
    {
      "cell_type": "code",
      "source": [],
      "metadata": {
        "id": "B5EUTZZGeX5a"
      },
      "execution_count": null,
      "outputs": []
    },
    {
      "cell_type": "markdown",
      "source": [
        "# Numpy"
      ],
      "metadata": {
        "id": "PmAZEer95hCl"
      }
    },
    {
      "cell_type": "code",
      "source": [
        "import numpy as np\n",
        "\n",
        "arr_1D = np.array([1, 2, 3, 4, 5])\n",
        "print(\"1D Array :\",arr_1D)\n",
        "\n",
        "arr_2D = np.array([[1, 2, 3], [4, 5, 6]])\n",
        "print(\"2D Array :\",arr_2D)"
      ],
      "metadata": {
        "colab": {
          "base_uri": "https://localhost:8080/"
        },
        "id": "wwPtnhF45i7O",
        "outputId": "aed54068-8543-4462-e39c-d937e972383c"
      },
      "execution_count": null,
      "outputs": [
        {
          "output_type": "stream",
          "name": "stdout",
          "text": [
            "1D Array : [1 2 3 4 5]\n",
            "2D Array : [[1 2 3]\n",
            " [4 5 6]]\n"
          ]
        }
      ]
    },
    {
      "cell_type": "markdown",
      "source": [
        "## List VS Numpy Array"
      ],
      "metadata": {
        "id": "dOl-_1Z37yd0"
      }
    },
    {
      "cell_type": "code",
      "source": [
        "py_list = [1,2,3]\n",
        "np_arr = np.array([1,2,3])\n",
        "\n",
        "print(py_list * 2)\n",
        "print(np_arr * 2) # 2d array has element wise multiplication"
      ],
      "metadata": {
        "colab": {
          "base_uri": "https://localhost:8080/"
        },
        "id": "bCtJQtui74RX",
        "outputId": "21ccb5d6-fbdc-44ca-aaf2-8ba5d3ed386e"
      },
      "execution_count": null,
      "outputs": [
        {
          "output_type": "stream",
          "name": "stdout",
          "text": [
            "[1, 2, 3, 1, 2, 3]\n",
            "[2 4 6]\n"
          ]
        }
      ]
    },
    {
      "cell_type": "code",
      "source": [
        "import time\n",
        "\n",
        "start = time.time()\n",
        "py_list = [i*2 for i in range (1000)]\n",
        "print(time.time()-start)\n",
        "\n",
        "start2 = time.time()\n",
        "#np_arr = np.array([i*2 for i in range (1000)])\n",
        "np_arr = np.arange(1000)*2\n",
        "print(time.time()-start2)"
      ],
      "metadata": {
        "colab": {
          "base_uri": "https://localhost:8080/"
        },
        "id": "0t8SuDSe8YoO",
        "outputId": "84b23c61-d88d-4995-8fc6-48842ae8da4a"
      },
      "execution_count": null,
      "outputs": [
        {
          "output_type": "stream",
          "name": "stdout",
          "text": [
            "0.00025081634521484375\n",
            "0.0007467269897460938\n"
          ]
        }
      ]
    },
    {
      "cell_type": "markdown",
      "source": [
        "## Creating Array from scratch"
      ],
      "metadata": {
        "id": "p2j9NIIm98_1"
      }
    },
    {
      "cell_type": "code",
      "source": [
        "zeros = np.zeros((2,3)) # 2,3 is order i.e rows and column\n",
        "print(zeros)\n",
        "\n",
        "ones = np.ones((2,3))\n",
        "print(ones)\n",
        "\n",
        "random = np.random.random((3,3))\n",
        "print(random * 10)\n",
        "\n",
        "full = np.full((2,3),7) # array of order 2 x 3 with 7 as all elements\n",
        "print(full)\n",
        "\n",
        "empty = np.empty((2,3))\n",
        "print(empty)\n",
        "\n",
        "random2 = np.random.randint((2,3))\n",
        "print(random2)\n",
        "\n",
        "seq = np.arange(2,22,2)\n",
        "print(seq)"
      ],
      "metadata": {
        "colab": {
          "base_uri": "https://localhost:8080/"
        },
        "id": "2QYRTkbh-CFU",
        "outputId": "b52ac8ec-040a-49aa-93a9-0a19facea5a6"
      },
      "execution_count": null,
      "outputs": [
        {
          "output_type": "stream",
          "name": "stdout",
          "text": [
            "[[0. 0. 0.]\n",
            " [0. 0. 0.]]\n",
            "[[1. 1. 1.]\n",
            " [1. 1. 1.]]\n",
            "[[9.73745786 3.91995775 5.08819324]\n",
            " [5.79743386 1.83609853 0.76548867]\n",
            " [4.36140174 9.91874148 2.53530371]]\n",
            "[[7 7 7]\n",
            " [7 7 7]]\n",
            "[[1. 1. 1.]\n",
            " [1. 1. 1.]]\n",
            "[0 0]\n",
            "[ 2  4  6  8 10 12 14 16 18 20]\n"
          ]
        }
      ]
    },
    {
      "cell_type": "markdown",
      "source": [
        "## Array Properties"
      ],
      "metadata": {
        "id": "KfTtpZjWBgWU"
      }
    },
    {
      "cell_type": "code",
      "source": [
        "arr = np.array([[1, 2, 3],\n",
        "                [4, 5, 6]])\n",
        "\n",
        "print(\"Shape\", arr.shape)\n",
        "print(\"Dimension \", arr.ndim)\n",
        "print(\"Size\", arr.size)\n",
        "print(\"DType \", arr.dtype)"
      ],
      "metadata": {
        "colab": {
          "base_uri": "https://localhost:8080/"
        },
        "id": "QjdwXB71BjJk",
        "outputId": "57677c83-3c36-4c7f-d2a5-5898ca158766"
      },
      "execution_count": null,
      "outputs": [
        {
          "output_type": "stream",
          "name": "stdout",
          "text": [
            "Shape (2, 3)\n",
            "Dimension  2\n",
            "Size 6\n",
            "DType  int64\n"
          ]
        }
      ]
    },
    {
      "cell_type": "markdown",
      "source": [
        "## Array Reshaping"
      ],
      "metadata": {
        "id": "BeiWJA_JCTxa"
      }
    },
    {
      "cell_type": "code",
      "source": [
        "org = np.arange(12)\n",
        "print(org)\n",
        "\n",
        "reshaped = org.reshape(3,4)\n",
        "print(reshaped)\n",
        "\n",
        "flattened = reshaped.flatten()\n",
        "print(flattened)\n",
        "\n",
        "# flatten and ravel give same output but\n",
        "# ravel (returns view, instead of copy) i.e doesnot change original\n",
        "raveled = reshaped.ravel()\n",
        "print(\"raveled array \", raveled)\n",
        "\n",
        "transposed = np.transpose(reshaped) # change order r x c into c x r eg 2 x 3 becomes 3 x 2\n",
        "print(transposed)"
      ],
      "metadata": {
        "colab": {
          "base_uri": "https://localhost:8080/"
        },
        "id": "0KUe1xChCXCi",
        "outputId": "c40fda05-fd23-4e42-ce67-62de43b1743c"
      },
      "execution_count": null,
      "outputs": [
        {
          "output_type": "stream",
          "name": "stdout",
          "text": [
            "[ 0  1  2  3  4  5  6  7  8  9 10 11]\n",
            "[[ 0  1  2  3]\n",
            " [ 4  5  6  7]\n",
            " [ 8  9 10 11]]\n",
            "[ 0  1  2  3  4  5  6  7  8  9 10 11]\n",
            "raveled array  [ 0  1  2  3  4  5  6  7  8  9 10 11]\n",
            "[[ 0  4  8]\n",
            " [ 1  5  9]\n",
            " [ 2  6 10]\n",
            " [ 3  7 11]]\n"
          ]
        }
      ]
    },
    {
      "cell_type": "markdown",
      "source": [
        "## Array Operations"
      ],
      "metadata": {
        "id": "pAeigHMJeXYs"
      }
    },
    {
      "cell_type": "code",
      "source": [
        "array_ = np.array([1,2,3,4,5,6,7,8,9,0])\n",
        "print(array_.sum())\n",
        "print(array_.min())\n",
        "print(array_.max())\n",
        "print(array_.mean())\n",
        "print(array_.std()) # standard deviation\n",
        "\n",
        "print(array_[2:7])\n",
        "print(array_[2:7:2])\n",
        "print(array_[-4:])\n",
        "print(array_[::-1])\n",
        "\n",
        "array_2D = np.array([[1, 2, 5], [3, 4, 7]])\n",
        "print(array_2D[1][1]) #Slicing\n",
        "print(array_2D[1])\n",
        "print(array_2D[:, 1])"
      ],
      "metadata": {
        "colab": {
          "base_uri": "https://localhost:8080/"
        },
        "id": "1Xoikw9-eaAY",
        "outputId": "cf746e17-d5b4-4d5b-ae5a-d99c94586de5"
      },
      "execution_count": null,
      "outputs": [
        {
          "output_type": "stream",
          "name": "stdout",
          "text": [
            "45\n",
            "0\n",
            "9\n",
            "4.5\n",
            "2.8722813232690143\n",
            "[3 4 5 6 7]\n",
            "[3 5 7]\n",
            "[7 8 9 0]\n",
            "[0 9 8 7 6 5 4 3 2 1]\n",
            "4\n",
            "[3 4 7]\n",
            "[2 4]\n"
          ]
        }
      ]
    },
    {
      "cell_type": "markdown",
      "source": [
        "## Sorting"
      ],
      "metadata": {
        "id": "iErIZaxPhwml"
      }
    },
    {
      "cell_type": "code",
      "source": [
        "arr = np.array([3, 1, 2, 5, 4])\n",
        "sorted_arr = np.sort(arr)\n",
        "print(sorted_arr)\n",
        "\n",
        "arr2d = np.array([[3, 1, 2], [5, 4, 6]])\n",
        "sorted_arr2d = np.sort(arr2d, axis=0)\n",
        "print(sorted_arr2d)\n"
      ],
      "metadata": {
        "colab": {
          "base_uri": "https://localhost:8080/"
        },
        "id": "ap7fYYGQhyhH",
        "outputId": "dca693df-c951-47f3-f3ea-817da5843989"
      },
      "execution_count": null,
      "outputs": [
        {
          "output_type": "stream",
          "name": "stdout",
          "text": [
            "[1 2 3 4 5]\n",
            "[[3 1 2]\n",
            " [5 4 6]]\n"
          ]
        }
      ]
    },
    {
      "cell_type": "markdown",
      "source": [
        "## Filters\n"
      ],
      "metadata": {
        "id": "BL2ZUVb6i3ir"
      }
    },
    {
      "cell_type": "code",
      "source": [
        "array_num = np.array([1,2,3,4,5,6,7,8,9,0])\n",
        "even_num = array_num[array_num % 2 == 0]\n",
        "print(even_num)\n",
        "\n",
        "# with Mask\n",
        "mask = (array_num > 5)\n",
        "print(array_num[mask])"
      ],
      "metadata": {
        "colab": {
          "base_uri": "https://localhost:8080/"
        },
        "id": "J5i3gwc1i5iN",
        "outputId": "04506b8e-186b-4cd6-ef31-3c213e98e1bd"
      },
      "execution_count": null,
      "outputs": [
        {
          "output_type": "stream",
          "name": "stdout",
          "text": [
            "[2 4 6 8 0]\n",
            "[6 7 8 9]\n"
          ]
        }
      ]
    },
    {
      "cell_type": "code",
      "source": [
        "indices = [2,3,4,7]\n",
        "print(array_num[indices])\n",
        "\n",
        "where = array_num > 5\n",
        "print(array_num[where])"
      ],
      "metadata": {
        "colab": {
          "base_uri": "https://localhost:8080/"
        },
        "id": "yDbnScX5kR_k",
        "outputId": "b3ac66a8-9201-4eb6-e339-9f224cd5ca03"
      },
      "execution_count": null,
      "outputs": [
        {
          "output_type": "stream",
          "name": "stdout",
          "text": [
            "[3 4 5 8]\n",
            "[6 7 8 9]\n"
          ]
        }
      ]
    },
    {
      "cell_type": "code",
      "source": [
        "                    # Condition  , if true , false\n",
        "condition = np.where(array_num > 5, 'True', 'False' ) #kinda like if else\n",
        "print(condition)"
      ],
      "metadata": {
        "colab": {
          "base_uri": "https://localhost:8080/"
        },
        "id": "m0B2Te-rlSvb",
        "outputId": "cb1ba196-fb59-4b0b-fff2-ff01495de78f"
      },
      "execution_count": null,
      "outputs": [
        {
          "output_type": "stream",
          "name": "stdout",
          "text": [
            "['False' 'False' 'False' 'False' 'False' 'True' 'True' 'True' 'True'\n",
            " 'False']\n"
          ]
        }
      ]
    },
    {
      "cell_type": "markdown",
      "source": [
        "## Adding and Removing"
      ],
      "metadata": {
        "id": "GJdK33pjmQ2Z"
      }
    },
    {
      "cell_type": "code",
      "source": [
        "arr1 = np.array([1,2,3,4,5,6])\n",
        "arr2 = np.array([7,8,9,10,11,12])\n",
        "print(np.concatenate((arr1,arr2)))\n",
        "\n",
        "arr1_2d = np.array([[1,2,3],[2,3,4]])\n",
        "arr2_2d = np.array([[4,5,6]])\n",
        "new_col = np.array([[6],[7]])\n",
        "print(np.vstack((arr1_2d,arr2_2d)))\n",
        "print(np.hstack((arr1_2d,new_col)))\n",
        "\n",
        "#delete\n",
        "print(np.delete(arr1,2))"
      ],
      "metadata": {
        "colab": {
          "base_uri": "https://localhost:8080/"
        },
        "id": "DlDlspxFmTAx",
        "outputId": "3288be13-32b2-4f5d-cfe8-2b43f11d05ec"
      },
      "execution_count": null,
      "outputs": [
        {
          "output_type": "stream",
          "name": "stdout",
          "text": [
            "[ 1  2  3  4  5  6  7  8  9 10 11 12]\n",
            "[[1 2 3]\n",
            " [2 3 4]\n",
            " [4 5 6]]\n",
            "[[1 2 3 6]\n",
            " [2 3 4 7]]\n",
            "[1 2 4 5 6]\n"
          ]
        }
      ]
    }
  ]
}